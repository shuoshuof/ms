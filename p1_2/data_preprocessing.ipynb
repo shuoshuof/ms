{
 "cells": [
  {
   "cell_type": "code",
   "execution_count": 13,
   "metadata": {},
   "outputs": [],
   "source": [
    "import pandas as pd\n",
    "import numpy as np"
   ]
  },
  {
   "cell_type": "code",
   "execution_count": 14,
   "metadata": {},
   "outputs": [],
   "source": [
    "data = pd.read_excel('./C_data (2).xls')\n",
    "data.to_csv('./c_data.csv')\n",
    "# print(data.head())"
   ]
  },
  {
   "cell_type": "code",
   "execution_count": 15,
   "metadata": {},
   "outputs": [],
   "source": [
    "#尝试次数归一化\n",
    "data_tries = data.iloc[:,5:12]\n",
    "data_tries = np.array(data_tries)\n",
    "sum = np.sum(data_tries,axis=1).reshape(-1,1)\n",
    "data_tries = np.round(data_tries/sum,3)\n",
    "# print(data_tries)"
   ]
  },
  {
   "cell_type": "code",
   "execution_count": 16,
   "metadata": {},
   "outputs": [],
   "source": [
    "#词频归一化\n",
    "data_freq = data['Count']\n",
    "data_freq = np.array(data_freq)\n",
    "min = np.min(data_freq)\n",
    "max = np.max(data_freq)\n",
    "data_freq = (data_freq-min)/(max-min)\n",
    "data_freq= data_freq.reshape(-1,1)\n",
    "# print(data_freq)\n"
   ]
  },
  {
   "cell_type": "code",
   "execution_count": 17,
   "metadata": {},
   "outputs": [],
   "source": [
    "#重复的字母个数\n",
    "\n",
    "\n",
    "def count_each_char(str):\n",
    "    dict = {}\n",
    "    for i in str:\n",
    "        if i not in dict:\n",
    "            dict[i] = 1\n",
    "        else:\n",
    "            dict[i] += 1\n",
    "    return dict\n",
    "\n",
    "words = data['Word']\n",
    "repeat=[]\n",
    "for word in words:\n",
    "    dict = count_each_char(word)\n",
    "    values = list(dict.values())\n",
    "    values = list(filter(lambda value:value>=2,values))\n",
    "    repeat.append(len(values))\n",
    "repeat = np.array(repeat)\n",
    "repeat = np.round(repeat)\n",
    "repeat = repeat.reshape(-1,1)\n",
    "# print(repeat)"
   ]
  }
 ],
 "metadata": {
  "kernelspec": {
   "display_name": "tf2",
   "language": "python",
   "name": "python3"
  },
  "language_info": {
   "codemirror_mode": {
    "name": "ipython",
    "version": 3
   },
   "file_extension": ".py",
   "mimetype": "text/x-python",
   "name": "python",
   "nbconvert_exporter": "python",
   "pygments_lexer": "ipython3",
   "version": "3.8.16"
  },
  "orig_nbformat": 4,
  "vscode": {
   "interpreter": {
    "hash": "013286d48fe9eccdd814dc9d423d7b640a150c261a75d12a42fe3876dfb2b274"
   }
  }
 },
 "nbformat": 4,
 "nbformat_minor": 2
}
