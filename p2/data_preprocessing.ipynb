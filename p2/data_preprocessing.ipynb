{
 "cells": [
  {
   "cell_type": "code",
   "execution_count": 18,
   "metadata": {},
   "outputs": [],
   "source": [
    "import pandas as pd\n",
    "import numpy as np"
   ]
  },
  {
   "cell_type": "code",
   "execution_count": 19,
   "metadata": {},
   "outputs": [
    {
     "name": "stdout",
     "output_type": "stream",
     "text": [
      "<bound method NDFrame.head of      Unnamed: 0       Date  Contest_number   Word  Number_of_reported_results  \\\n",
      "0             0 2022-01-07             202  slump                       80630   \n",
      "1             1 2022-01-08             203  crank                      101503   \n",
      "2             2 2022-01-09             204  gorge                       91477   \n",
      "3             3 2022-01-10             205  query                      107134   \n",
      "4             4 2022-01-11             206  drink                      153880   \n",
      "..          ...        ...             ...    ...                         ...   \n",
      "354         354 2022-12-27             556  condo                       20879   \n",
      "355         355 2022-12-28             557  impel                       20160   \n",
      "356         356 2022-12-29             558  havoc                       20001   \n",
      "357         357 2022-12-30             559  molar                       21204   \n",
      "358         358 2022-12-31             560  manly                       20380   \n",
      "\n",
      "     Number_in_hard_mode  ratie_hard_normal  1try  2tries  3tries  4tries  \\\n",
      "0                   1362           0.016892  0.01   0.030   0.230   0.390   \n",
      "1                   1763           0.017369  0.01   0.050   0.230   0.310   \n",
      "2                   1913           0.020912  0.01   0.030   0.130   0.270   \n",
      "3                   2242           0.020927  0.01   0.040   0.160   0.300   \n",
      "4                   3017           0.019606  0.01   0.089   0.347   0.337   \n",
      "..                   ...                ...   ...     ...     ...     ...   \n",
      "354                 2012           0.096365  0.00   0.020   0.170   0.350   \n",
      "355                 1937           0.096081  0.00   0.030   0.212   0.404   \n",
      "356                 1919           0.095945  0.00   0.020   0.160   0.380   \n",
      "357                 1973           0.093048  0.00   0.040   0.212   0.384   \n",
      "358                 1899           0.093180  0.00   0.020   0.172   0.374   \n",
      "\n",
      "     5tries  6tries  7tries  word_freq  num of repeated letters  \n",
      "0     0.240   0.090    0.01   0.000878                        0  \n",
      "1     0.240   0.140    0.02   0.002214                        0  \n",
      "2     0.300   0.220    0.04   0.001974                        1  \n",
      "3     0.300   0.170    0.02   0.031953                        0  \n",
      "4     0.158   0.050    0.01   0.029879                        0  \n",
      "..      ...     ...     ...        ...                      ...  \n",
      "354   0.290   0.140    0.03   0.006567                        1  \n",
      "355   0.253   0.091    0.01   0.000069                        0  \n",
      "356   0.300   0.120    0.02   0.001710                        0  \n",
      "357   0.263   0.091    0.01   0.000645                        0  \n",
      "358   0.293   0.121    0.02   0.001269                        0  \n",
      "\n",
      "[359 rows x 16 columns]>\n"
     ]
    }
   ],
   "source": [
    "data = pd.read_excel('../p1_2/C_data_new.xls')\n",
    "print(data.head)"
   ]
  },
  {
   "cell_type": "code",
   "execution_count": 20,
   "metadata": {},
   "outputs": [
    {
     "name": "stdout",
     "output_type": "stream",
     "text": [
      "[[0.01  0.03  0.23  ... 0.24  0.09  0.01 ]\n",
      " [0.01  0.05  0.23  ... 0.24  0.14  0.02 ]\n",
      " [0.01  0.03  0.13  ... 0.3   0.22  0.04 ]\n",
      " ...\n",
      " [0.    0.02  0.16  ... 0.3   0.12  0.02 ]\n",
      " [0.    0.04  0.212 ... 0.263 0.091 0.01 ]\n",
      " [0.    0.02  0.172 ... 0.293 0.121 0.02 ]]\n"
     ]
    }
   ],
   "source": [
    "labels = data.iloc[:,7:14]\n",
    "labels = np.array(labels)\n",
    "print(labels)"
   ]
  },
  {
   "cell_type": "code",
   "execution_count": 21,
   "metadata": {},
   "outputs": [
    {
     "name": "stdout",
     "output_type": "stream",
     "text": [
      "{'a': 0, 'b': 1, 'c': 2, 'd': 3, 'e': 4, 'f': 5, 'g': 6, 'h': 7, 'i': 8, 'j': 9, 'k': 10, 'l': 11, 'm': 12, 'n': 13, 'o': 14, 'p': 15, 'q': 16, 'r': 17, 's': 18, 't': 19, 'u': 20, 'v': 21, 'w': 22, 'x': 23, 'y': 24, 'z': 25}\n"
     ]
    }
   ],
   "source": [
    "dict={}\n",
    "for i in range(26):\n",
    "    dict[chr(97+i)]=i\n",
    "print(dict)"
   ]
  },
  {
   "cell_type": "code",
   "execution_count": 30,
   "metadata": {},
   "outputs": [
    {
     "name": "stdout",
     "output_type": "stream",
     "text": [
      "(359, 5, 26)\n"
     ]
    }
   ],
   "source": [
    "words = data['Word']\n",
    "words_codes = []\n",
    "for word in words:\n",
    "    codes=[]\n",
    "    for letter in word:\n",
    "        code = np.zeros((26))\n",
    "        # print(letter)\n",
    "        code[dict[letter]]=1\n",
    "        codes.append(code)\n",
    "        \n",
    "    assert len(codes) ==5\n",
    "    words_codes.append(codes)\n",
    "    # print(words_codes)\n",
    "words_codes = np.array(words_codes)\n",
    "print(words_codes.shape)"
   ]
  },
  {
   "cell_type": "code",
   "execution_count": null,
   "metadata": {},
   "outputs": [],
   "source": []
  }
 ],
 "metadata": {
  "kernelspec": {
   "display_name": "tf2",
   "language": "python",
   "name": "python3"
  },
  "language_info": {
   "codemirror_mode": {
    "name": "ipython",
    "version": 3
   },
   "file_extension": ".py",
   "mimetype": "text/x-python",
   "name": "python",
   "nbconvert_exporter": "python",
   "pygments_lexer": "ipython3",
   "version": "3.8.16"
  },
  "orig_nbformat": 4,
  "vscode": {
   "interpreter": {
    "hash": "013286d48fe9eccdd814dc9d423d7b640a150c261a75d12a42fe3876dfb2b274"
   }
  }
 },
 "nbformat": 4,
 "nbformat_minor": 2
}
